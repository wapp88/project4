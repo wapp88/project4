{
 "cells": [
  {
   "cell_type": "code",
   "execution_count": 2,
   "metadata": {
    "executionInfo": {
     "elapsed": 308,
     "status": "ok",
     "timestamp": 1686746822371,
     "user": {
      "displayName": "Muhammad Singgih",
      "userId": "07680075266104764756"
     },
     "user_tz": -420
    },
    "id": "rFSZbbUHOJWo"
   },
   "outputs": [],
   "source": [
    "import mrjob"
   ]
  },
  {
   "cell_type": "code",
   "execution_count": 3,
   "metadata": {
    "colab": {
     "base_uri": "https://localhost:8080/"
    },
    "executionInfo": {
     "elapsed": 1527,
     "status": "ok",
     "timestamp": 1686746830451,
     "user": {
      "displayName": "Muhammad Singgih",
      "userId": "07680075266104764756"
     },
     "user_tz": -420
    },
    "id": "EIg-uYFRVXFQ",
    "outputId": "7931dd26-ec07-468c-ce9d-0ec7097510ac"
   },
   "outputs": [
    {
     "name": "stderr",
     "output_type": "stream",
     "text": [
      "No configs found; falling back on auto-configuration\n",
      "No configs specified for inline runner\n",
      "Creating temp directory C:\\Users\\ASUS\\AppData\\Local\\Temp\\UserIdCounter.ASUS.20230617.012524.604426\n",
      "Running step 1 of 1...\n",
      "job output is in C:\\Users\\ASUS\\AppData\\Local\\Temp\\UserIdCounter.ASUS.20230617.012524.604426\\output\n",
      "Streaming final output from C:\\Users\\ASUS\\AppData\\Local\\Temp\\UserIdCounter.ASUS.20230617.012524.604426\\output...\n",
      "Removing temp directory C:\\Users\\ASUS\\AppData\\Local\\Temp\\UserIdCounter.ASUS.20230617.012524.604426...\n"
     ]
    }
   ],
   "source": [
    "!python UserIdCounter.py movie_rating.txt > useridcounter.txt"
   ]
  },
  {
   "cell_type": "code",
   "execution_count": 4,
   "metadata": {
    "colab": {
     "base_uri": "https://localhost:8080/"
    },
    "executionInfo": {
     "elapsed": 1494,
     "status": "ok",
     "timestamp": 1686746854867,
     "user": {
      "displayName": "Muhammad Singgih",
      "userId": "07680075266104764756"
     },
     "user_tz": -420
    },
    "id": "wEK74g30Sr-I",
    "outputId": "95d3107c-4bc5-4599-9b77-1c30bcf935ba"
   },
   "outputs": [
    {
     "name": "stderr",
     "output_type": "stream",
     "text": [
      "No configs found; falling back on auto-configuration\n",
      "No configs specified for inline runner\n",
      "Creating temp directory C:\\Users\\ASUS\\AppData\\Local\\Temp\\RatingCounter.ASUS.20230617.012545.391201\n",
      "Running step 1 of 1...\n",
      "job output is in C:\\Users\\ASUS\\AppData\\Local\\Temp\\RatingCounter.ASUS.20230617.012545.391201\\output\n",
      "Streaming final output from C:\\Users\\ASUS\\AppData\\Local\\Temp\\RatingCounter.ASUS.20230617.012545.391201\\output...\n",
      "Removing temp directory C:\\Users\\ASUS\\AppData\\Local\\Temp\\RatingCounter.ASUS.20230617.012545.391201...\n"
     ]
    }
   ],
   "source": [
    "!python RatingCounter.py movie_rating.txt > ratingcounter.txt"
   ]
  },
  {
   "cell_type": "code",
   "execution_count": null,
   "metadata": {
    "id": "EKDa21pYfZ7N"
   },
   "outputs": [],
   "source": []
  }
 ],
 "metadata": {
  "colab": {
   "authorship_tag": "ABX9TyPPuD+ABWxDso00z9e4zhO8",
   "provenance": []
  },
  "kernelspec": {
   "display_name": "Python 3",
   "language": "python",
   "name": "python3"
  },
  "language_info": {
   "codemirror_mode": {
    "name": "ipython",
    "version": 3
   },
   "file_extension": ".py",
   "mimetype": "text/x-python",
   "name": "python",
   "nbconvert_exporter": "python",
   "pygments_lexer": "ipython3",
   "version": "3.7.3"
  }
 },
 "nbformat": 4,
 "nbformat_minor": 2
}
