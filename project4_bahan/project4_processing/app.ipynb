{
 "cells": [
  {
   "cell_type": "code",
   "execution_count": 2,
   "metadata": {},
   "outputs": [],
   "source": [
    "import os\n",
    "import connection\n",
    "import sqlparse\n",
    "import pandas as pd"
   ]
  },
  {
   "cell_type": "code",
   "execution_count": null,
   "metadata": {},
   "outputs": [],
   "source": [
    "if __name__ == '__main__':\n",
    "    print('[INFO] Service ETL is Starting ...')\n",
    "    \n",
    "    # connection data source\n",
    "    conf = connection.config('marketplace_prod')\n",
    "    conn, engine = connection.psql_conn(conf, 'DataSource')\n",
    "    cursor = conn.cursor()\n",
    "\n",
    "    # connection dwh\n",
    "    conf_dwh = connection.config('dwh')\n",
    "    conn_dwh, engine_dwh = connection.psql_conn(conf_dwh, 'DataWarehouse')\n",
    "    cursor_dwh = conn_dwh.cursor()\n",
    "\n",
    "    # get query string\n",
    "    path_query = os.getcwd()+'/query/'\n",
    "    query = sqlparse.format(\n",
    "        open(path_query+'query.sql', 'r').read(), strip_comments=True\n",
    "    ).strip()\n",
    "\n",
    "    # get schema dwh design\n",
    "    path_dwh_design = os.getcwd()+'/query/'\n",
    "    dwh_design = sqlparse.format(\n",
    "        open(path_dwh_design+'dwh_design.sql', 'r').read(), strip_comments=True\n",
    "    ).strip()\n",
    "\n",
    "    try:\n",
    "        # get data\n",
    "        print('[INFO] Service ETL is Running ...')\n",
    "        df = pd.read_sql(query, engine)\n",
    "\n",
    "        # create schema dwh\n",
    "        cursor_dwh.execute(dwh_design)\n",
    "        conn_dwh.commit()\n",
    "\n",
    "        # ingest data to dwh\n",
    "        df.to_sql('dim_orders', engine_dwh, if_exists='append', index=False)\n",
    "        print('[INFO] Service ETL is Success ...')\n",
    "    except Exception as e:\n",
    "        print('[INFO] Service ETL is Failed ...')\n",
    "    "
   ]
  }
 ],
 "metadata": {
  "kernelspec": {
   "display_name": "Python 3",
   "language": "python",
   "name": "python3"
  },
  "language_info": {
   "codemirror_mode": {
    "name": "ipython",
    "version": 3
   },
   "file_extension": ".py",
   "mimetype": "text/x-python",
   "name": "python",
   "nbconvert_exporter": "python",
   "pygments_lexer": "ipython3",
   "version": "3.7.3"
  }
 },
 "nbformat": 4,
 "nbformat_minor": 2
}
