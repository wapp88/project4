{
 "cells": [
  {
   "cell_type": "code",
   "execution_count": 1,
   "metadata": {},
   "outputs": [],
   "source": [
    "import os\n",
    "import json\n",
    "import psycopg2\n",
    "\n",
    "from sqlalchemy import create_engine"
   ]
  },
  {
   "cell_type": "code",
   "execution_count": null,
   "metadata": {},
   "outputs": [],
   "source": [
    "def config(connection_db):\n",
    "    path = os.getcwd()\n",
    "    with open(path+'/'+'config.json') as file:\n",
    "        conf =json.load(file)[connection_db]\n",
    "    return conf\n",
    "\n",
    "def psql_conn(conf, name_conn):\n",
    "    try:\n",
    "        conn = psycopg2.connect(\n",
    "            host=conf['host'],\n",
    "            database=conf['db'],\n",
    "            user=conf['user'],\n",
    "            password=conf['password'],\n",
    "            port=conf['port']\n",
    "        )\n",
    "        print(f'[INFO] Success connect PostgreSQL {name_conn}')\n",
    "        engine = create_engine(f\"postgresql+psycopg2://{conf['user']}:{conf['password']}@{conf['host']}:{conf['port']}/{conf['db']}\")\n",
    "        return conn, engine\n",
    "    except Exception as e:\n",
    "        print(f\"[INFO] Can't connect PostgreSQL {name_conn}\")\n",
    "        print(str(e))\n"
   ]
  }
 ],
 "metadata": {
  "kernelspec": {
   "display_name": "Python 3",
   "language": "python",
   "name": "python3"
  },
  "language_info": {
   "codemirror_mode": {
    "name": "ipython",
    "version": 3
   },
   "file_extension": ".py",
   "mimetype": "text/x-python",
   "name": "python",
   "nbconvert_exporter": "python",
   "pygments_lexer": "ipython3",
   "version": "3.7.3"
  }
 },
 "nbformat": 4,
 "nbformat_minor": 2
}
